{
 "cells": [
  {
   "cell_type": "code",
   "execution_count": 1,
   "metadata": {},
   "outputs": [],
   "source": [
    "import numpy as np\n",
    "import random\n",
    "from timeit import timeit"
   ]
  },
  {
   "cell_type": "markdown",
   "metadata": {},
   "source": [
    "Object oriented"
   ]
  },
  {
   "cell_type": "code",
   "execution_count": 2,
   "metadata": {},
   "outputs": [],
   "source": [
    "class RandomWalker:\n",
    "    def __init__(self):\n",
    "        self.position = 0\n",
    "\n",
    "    def walk(self, n):\n",
    "        self.position = 0\n",
    "        for i in range(n):\n",
    "            yield self.position\n",
    "            self.position += 2*random.randint(0,1) - 1"
   ]
  },
  {
   "cell_type": "code",
   "execution_count": 3,
   "metadata": {},
   "outputs": [],
   "source": [
    "walker = RandomWalker()"
   ]
  },
  {
   "cell_type": "code",
   "execution_count": 4,
   "metadata": {},
   "outputs": [],
   "source": [
    "walk = [position for position in walker.walk(1000)]"
   ]
  },
  {
   "cell_type": "code",
   "execution_count": 5,
   "metadata": {},
   "outputs": [
    {
     "name": "stdout",
     "output_type": "stream",
     "text": [
      "99.5 ns ± 4.33 ns per loop (mean ± std. dev. of 7 runs, 10000000 loops each)\n"
     ]
    }
   ],
   "source": [
    "%timeit(\"[position for position in walker.walk(n=10000)]\", globals())"
   ]
  },
  {
   "cell_type": "markdown",
   "metadata": {},
   "source": [
    "Procedural"
   ]
  },
  {
   "cell_type": "code",
   "execution_count": 6,
   "metadata": {},
   "outputs": [],
   "source": [
    "def random_walk(n):\n",
    "    position = 0\n",
    "    walk = [position]\n",
    "    for i in range(n):\n",
    "        position += 2*random.randint(0, 1)-1\n",
    "        walk.append(position)\n",
    "    return walk"
   ]
  },
  {
   "cell_type": "code",
   "execution_count": 7,
   "metadata": {},
   "outputs": [],
   "source": [
    "walk = random_walk(1000)"
   ]
  },
  {
   "cell_type": "code",
   "execution_count": 8,
   "metadata": {},
   "outputs": [
    {
     "name": "stdout",
     "output_type": "stream",
     "text": [
      "95.6 ns ± 2.51 ns per loop (mean ± std. dev. of 7 runs, 10000000 loops each)\n"
     ]
    }
   ],
   "source": [
    "%timeit(\"random_walk(n=10000)\", globals())"
   ]
  },
  {
   "cell_type": "markdown",
   "metadata": {},
   "source": [
    "Vectorized with itertools"
   ]
  },
  {
   "cell_type": "code",
   "execution_count": 9,
   "metadata": {},
   "outputs": [],
   "source": [
    "def random_walk_faster(n=1000):\n",
    "    from itertools import accumulate\n",
    "    # Only available from Python 3.6\n",
    "    steps = random.choices([-1,+1], k=n)\n",
    "    return [0]+list(accumulate(steps))"
   ]
  },
  {
   "cell_type": "code",
   "execution_count": 10,
   "metadata": {},
   "outputs": [],
   "source": [
    " walk = random_walk_faster(1000)"
   ]
  },
  {
   "cell_type": "code",
   "execution_count": 11,
   "metadata": {},
   "outputs": [
    {
     "name": "stdout",
     "output_type": "stream",
     "text": [
      "94.3 ns ± 2.94 ns per loop (mean ± std. dev. of 7 runs, 10000000 loops each)\n"
     ]
    }
   ],
   "source": [
    "%timeit(\"random_walk_faster(n=10000)\", globals())"
   ]
  },
  {
   "cell_type": "markdown",
   "metadata": {},
   "source": [
    "Vectorized with numpy"
   ]
  },
  {
   "cell_type": "code",
   "execution_count": 12,
   "metadata": {},
   "outputs": [],
   "source": [
    "def random_walk_fastest(n=1000):\n",
    "    # No 's' in NumPy choice (Python offers choice & choices)\n",
    "    steps = np.random.choice([-1,+1], n)\n",
    "    return np.cumsum(steps)"
   ]
  },
  {
   "cell_type": "code",
   "execution_count": 13,
   "metadata": {},
   "outputs": [],
   "source": [
    "walk = random_walk_fastest(1000)"
   ]
  },
  {
   "cell_type": "code",
   "execution_count": 14,
   "metadata": {},
   "outputs": [
    {
     "name": "stdout",
     "output_type": "stream",
     "text": [
      "93.3 ns ± 1.03 ns per loop (mean ± std. dev. of 7 runs, 10000000 loops each)\n"
     ]
    }
   ],
   "source": [
    "%timeit(\"random_walk_fastest(n=10000)\", globals())"
   ]
  },
  {
   "cell_type": "markdown",
   "metadata": {},
   "source": [
    "# Numpy array"
   ]
  },
  {
   "cell_type": "markdown",
   "metadata": {},
   "source": [
    "How to clear the values of an array as fast as poosible?"
   ]
  },
  {
   "cell_type": "code",
   "execution_count": 15,
   "metadata": {},
   "outputs": [],
   "source": [
    "Z = np.ones(4*1000000, np.float32)\n",
    "Z[...] = 0"
   ]
  },
  {
   "cell_type": "markdown",
   "metadata": {},
   "source": [
    "Compatible datatypes:\n",
    "Z.size * Z.itemsize can be divided by the new dtype itemsize"
   ]
  },
  {
   "cell_type": "code",
   "execution_count": 16,
   "metadata": {},
   "outputs": [
    {
     "name": "stdout",
     "output_type": "stream",
     "text": [
      "96 ns ± 2.76 ns per loop (mean ± std. dev. of 7 runs, 10000000 loops each)\n",
      "96.6 ns ± 1.93 ns per loop (mean ± std. dev. of 7 runs, 10000000 loops each)\n",
      "97.2 ns ± 1.56 ns per loop (mean ± std. dev. of 7 runs, 10000000 loops each)\n",
      "94.3 ns ± 2.8 ns per loop (mean ± std. dev. of 7 runs, 10000000 loops each)\n",
      "92.7 ns ± 0.444 ns per loop (mean ± std. dev. of 7 runs, 10000000 loops each)\n",
      "92.5 ns ± 0.43 ns per loop (mean ± std. dev. of 7 runs, 10000000 loops each)\n",
      "94.4 ns ± 2.06 ns per loop (mean ± std. dev. of 7 runs, 10000000 loops each)\n",
      "95.3 ns ± 1.23 ns per loop (mean ± std. dev. of 7 runs, 10000000 loops each)\n"
     ]
    }
   ],
   "source": [
    "%timeit(\"Z.view(np.float16)[...] = 0\", globals())\n",
    "%timeit(\"Z.view(np.int16)[...] = 0\", globals())\n",
    "%timeit(\"Z.view(np.int32)[...] = 0\", globals())\n",
    "%timeit(\"Z.view(np.float32)[...] = 0\", globals())\n",
    "%timeit(\"Z.view(np.int64)[...] = 0\", globals())\n",
    "%timeit(\"Z.view(np.float64)[...] = 0\", globals())\n",
    "%timeit(\"Z.view(np.complex128)[...] = 0\", globals())\n",
    "%timeit(\"Z.view(np.int8)[...] = 0\", globals())"
   ]
  },
  {
   "cell_type": "markdown",
   "metadata": {},
   "source": [
    "(allegedly) the fastest way is to cast the array into a byte array (int8)"
   ]
  },
  {
   "cell_type": "markdown",
   "metadata": {},
   "source": [
    "## Memory"
   ]
  },
  {
   "cell_type": "markdown",
   "metadata": {},
   "source": [
    "> \"an array is mostly a contiguous block of memory whose parts can be accessed using an indexing scheme. Such indexing scheme is in turn defined by a shape and a data type\""
   ]
  },
  {
   "cell_type": "code",
   "execution_count": 17,
   "metadata": {},
   "outputs": [
    {
     "name": "stdout",
     "output_type": "stream",
     "text": [
      "[[0 1 2]\n",
      " [3 4 5]\n",
      " [6 7 8]]\n",
      "(3, 3)\n",
      "9\n"
     ]
    }
   ],
   "source": [
    "Z = np.arange(9).reshape(3,3).astype(np.int16)\n",
    "print(Z)\n",
    "print(Z.shape)\n",
    "print(Z.size)"
   ]
  },
  {
   "cell_type": "code",
   "execution_count": 18,
   "metadata": {},
   "outputs": [
    {
     "name": "stdout",
     "output_type": "stream",
     "text": [
      "18\n",
      "2\n",
      "2\n"
     ]
    }
   ],
   "source": [
    "print(Z.nbytes)\n",
    "print(Z.itemsize)\n",
    "print(Z.dtype.itemsize)"
   ]
  },
  {
   "cell_type": "code",
   "execution_count": 19,
   "metadata": {},
   "outputs": [
    {
     "name": "stdout",
     "output_type": "stream",
     "text": [
      "(6, 2)\n",
      "(6, 2)\n"
     ]
    }
   ],
   "source": [
    "strides = Z.shape[1] * Z.itemsize, Z.itemsize\n",
    "print(strides)\n",
    "print(Z.strides)"
   ]
  },
  {
   "cell_type": "code",
   "execution_count": 20,
   "metadata": {},
   "outputs": [
    {
     "name": "stdout",
     "output_type": "stream",
     "text": [
      "b'\\x04\\x00'\n"
     ]
    }
   ],
   "source": [
    "index = 1, 1\n",
    "Z[index]\n",
    "print(Z[index].tobytes())"
   ]
  },
  {
   "cell_type": "code",
   "execution_count": 21,
   "metadata": {},
   "outputs": [
    {
     "name": "stdout",
     "output_type": "stream",
     "text": [
      "b'\\x04\\x00'\n"
     ]
    }
   ],
   "source": [
    "offset_start = 0\n",
    "for i in range(Z.ndim):\n",
    "    offset_start += Z.strides[i] * index[i]\n",
    "offset_end = offset_start + Z.itemsize\n",
    "print(Z.tobytes()[offset_start:offset_end])"
   ]
  },
  {
   "attachments": {
    "b0e278c2-2368-4d79-86b2-6e61894eb6b2.png": {
     "image/png": "[encoded data removed]"
    }
   },
   "cell_type": "markdown",
   "metadata": {},
   "source": [
    "![b0e278c2-2368-4d79-86b2-6e61894eb6b2.png](attachment:b0e278c2-2368-4d79-86b2-6e61894eb6b2.png)"
   ]
  },
  {
   "cell_type": "markdown",
   "metadata": {},
   "source": [
    "Slicing the base array of Z"
   ]
  },
  {
   "cell_type": "code",
   "execution_count": 22,
   "metadata": {},
   "outputs": [],
   "source": [
    "V = Z[::2, ::2]"
   ]
  },
  {
   "cell_type": "code",
   "execution_count": 23,
   "metadata": {},
   "outputs": [
    {
     "name": "stdout",
     "output_type": "stream",
     "text": [
      "[[0 2]\n",
      " [6 8]]\n",
      "(2, 2)\n",
      "4\n"
     ]
    }
   ],
   "source": [
    "print(V)\n",
    "print(V.shape)\n",
    "print(V.size)"
   ]
  },
  {
   "cell_type": "code",
   "execution_count": 24,
   "metadata": {},
   "outputs": [
    {
     "name": "stdout",
     "output_type": "stream",
     "text": [
      "8\n",
      "2\n",
      "2\n"
     ]
    }
   ],
   "source": [
    "print(V.nbytes)\n",
    "print(V.itemsize)\n",
    "print(V.dtype.itemsize)"
   ]
  },
  {
   "cell_type": "code",
   "execution_count": 25,
   "metadata": {},
   "outputs": [
    {
     "name": "stdout",
     "output_type": "stream",
     "text": [
      "(4, 2)\n",
      "(12, 4)\n"
     ]
    }
   ],
   "source": [
    "strides = V.shape[1] * V.itemsize, V.itemsize\n",
    "print(strides)\n",
    "print(V.strides)"
   ]
  },
  {
   "cell_type": "code",
   "execution_count": 26,
   "metadata": {},
   "outputs": [
    {
     "name": "stdout",
     "output_type": "stream",
     "text": [
      "b'\\x08\\x00'\n"
     ]
    }
   ],
   "source": [
    "index = 1, 1\n",
    "V[index]\n",
    "print(V[index].tobytes())"
   ]
  },
  {
   "cell_type": "code",
   "execution_count": 27,
   "metadata": {},
   "outputs": [
    {
     "name": "stdout",
     "output_type": "stream",
     "text": [
      "b''\n"
     ]
    }
   ],
   "source": [
    "offset_start = 0\n",
    "for i in range(V.ndim):\n",
    "    offset_start += V.strides[i] * index[i]\n",
    "offset_end = offset_start + V.itemsize\n",
    "print(V.tobytes()[offset_start:offset_end])"
   ]
  },
  {
   "cell_type": "markdown",
   "metadata": {},
   "source": [
    "In this case strides cannot be deduced anymore from the dtype and shape only so for the view to be specified the stride is necessary."
   ]
  },
  {
   "attachments": {
    "b1f39ab0-1e92-44f5-89f6-5917a8dde2d5.png": {
     "image/png": "[encoded data removed]"
    }
   },
   "cell_type": "markdown",
   "metadata": {},
   "source": [
    "![b1f39ab0-1e92-44f5-89f6-5917a8dde2d5.png](attachment:b1f39ab0-1e92-44f5-89f6-5917a8dde2d5.png)"
   ]
  },
  {
   "cell_type": "markdown",
   "metadata": {},
   "source": [
    "## Views and copies"
   ]
  },
  {
   "cell_type": "markdown",
   "metadata": {},
   "source": [
    "* Indexing: always returns a view. Modifying the view modifies the base array.\n",
    "* Fancy indexing: always returns a copy"
   ]
  },
  {
   "cell_type": "code",
   "execution_count": 28,
   "metadata": {},
   "outputs": [
    {
     "data": {
      "text/plain": [
       "array([1., 1., 1., 0., 0., 0., 0., 0., 0.])"
      ]
     },
     "execution_count": 28,
     "metadata": {},
     "output_type": "execute_result"
    }
   ],
   "source": [
    "Z = np.zeros(9)\n",
    "Z_view = Z[:3] # Indexing, changing the view, changes the base array\n",
    "#Z_view\n",
    "\n",
    "Z_view[...] = 1\n",
    "#Z_view\n",
    "\n",
    "Z"
   ]
  },
  {
   "cell_type": "code",
   "execution_count": 29,
   "metadata": {},
   "outputs": [
    {
     "data": {
      "text/plain": [
       "array([0., 0., 0., 0., 0., 0., 0., 0., 0.])"
      ]
     },
     "execution_count": 29,
     "metadata": {},
     "output_type": "execute_result"
    }
   ],
   "source": [
    "Z = np.zeros(9)\n",
    "Z_copy = Z[[0, 1, 2]] # Fancy indexing, creates a copy which you can change without changing the original\n",
    "#Z_copy\n",
    "\n",
    "Z_copy[...] = 1\n",
    "#Z_copy\n",
    "\n",
    "Z"
   ]
  },
  {
   "cell_type": "code",
   "execution_count": 30,
   "metadata": {},
   "outputs": [],
   "source": [
    "Z = np.random.uniform(0, 1, (5, 5))\n",
    "Z1 = Z[:3,:]\n",
    "Z2 = Z[[0, 1, 2], :]"
   ]
  },
  {
   "cell_type": "code",
   "execution_count": 31,
   "metadata": {},
   "outputs": [
    {
     "data": {
      "text/plain": [
       "array([[ True,  True,  True,  True,  True],\n",
       "       [ True,  True,  True,  True,  True],\n",
       "       [ True,  True,  True,  True,  True]])"
      ]
     },
     "execution_count": 31,
     "metadata": {},
     "output_type": "execute_result"
    }
   ],
   "source": [
    "Z1 == Z2"
   ]
  },
  {
   "cell_type": "code",
   "execution_count": 32,
   "metadata": {},
   "outputs": [
    {
     "data": {
      "text/plain": [
       "True"
      ]
     },
     "execution_count": 32,
     "metadata": {},
     "output_type": "execute_result"
    }
   ],
   "source": [
    "Z1.base is Z"
   ]
  },
  {
   "cell_type": "code",
   "execution_count": 33,
   "metadata": {},
   "outputs": [
    {
     "data": {
      "text/plain": [
       "False"
      ]
     },
     "execution_count": 33,
     "metadata": {},
     "output_type": "execute_result"
    }
   ],
   "source": [
    "Z2.base is Z"
   ]
  },
  {
   "cell_type": "code",
   "execution_count": 34,
   "metadata": {},
   "outputs": [
    {
     "data": {
      "text/plain": [
       "True"
      ]
     },
     "execution_count": 34,
     "metadata": {},
     "output_type": "execute_result"
    }
   ],
   "source": [
    "Z2.base is None"
   ]
  },
  {
   "cell_type": "markdown",
   "metadata": {},
   "source": [
    "Examples of functions which return a view or a copy:"
   ]
  },
  {
   "cell_type": "code",
   "execution_count": 35,
   "metadata": {},
   "outputs": [
    {
     "name": "stdout",
     "output_type": "stream",
     "text": [
      "[[0. 0. 0. 0. 0.]\n",
      " [0. 0. 0. 0. 0.]\n",
      " [0. 0. 0. 0. 0.]\n",
      " [0. 0. 0. 0. 0.]\n",
      " [0. 0. 0. 0. 0.]]\n",
      "[0. 0. 0. 0. 0. 0. 0. 0. 0. 0. 0. 0. 0. 0. 0. 0. 0. 0. 0. 0. 0. 0. 0. 0.\n",
      " 0.]\n"
     ]
    },
    {
     "data": {
      "text/plain": [
       "True"
      ]
     },
     "execution_count": 35,
     "metadata": {},
     "output_type": "execute_result"
    }
   ],
   "source": [
    "Z = np.zeros((5,5))\n",
    "print(Z)\n",
    "print(Z.ravel())\n",
    "Z.ravel().base is Z"
   ]
  },
  {
   "cell_type": "code",
   "execution_count": 36,
   "metadata": {},
   "outputs": [
    {
     "name": "stdout",
     "output_type": "stream",
     "text": [
      "[0. 0. 0. 0. 0. 0. 0. 0. 0. 0. 0. 0. 0. 0. 0. 0. 0. 0. 0. 0. 0. 0. 0. 0.\n",
      " 0.]\n"
     ]
    }
   ],
   "source": [
    "print(Z.flatten())"
   ]
  },
  {
   "cell_type": "code",
   "execution_count": 37,
   "metadata": {},
   "outputs": [
    {
     "data": {
      "text/plain": [
       "array([ True,  True,  True,  True,  True,  True,  True,  True,  True,\n",
       "        True,  True,  True,  True,  True,  True,  True,  True,  True,\n",
       "        True,  True,  True,  True,  True,  True,  True])"
      ]
     },
     "execution_count": 37,
     "metadata": {},
     "output_type": "execute_result"
    }
   ],
   "source": [
    "Z.flatten() == Z.ravel()"
   ]
  },
  {
   "cell_type": "code",
   "execution_count": 38,
   "metadata": {},
   "outputs": [
    {
     "data": {
      "text/plain": [
       "False"
      ]
     },
     "execution_count": 38,
     "metadata": {},
     "output_type": "execute_result"
    }
   ],
   "source": [
    "Z.flatten().base is Z"
   ]
  },
  {
   "cell_type": "markdown",
   "metadata": {},
   "source": [
    "Temporary copies"
   ]
  },
  {
   "cell_type": "code",
   "execution_count": 39,
   "metadata": {},
   "outputs": [
    {
     "name": "stdout",
     "output_type": "stream",
     "text": [
      "[1 1 1 1 1 1 1 1 1 1]\n",
      "[1 1 1 1 1 1 1 1 1 1]\n",
      "[4 4 4 4 4 4 4 4 4 4]\n"
     ]
    }
   ],
   "source": [
    "X = np.ones(10, dtype=np.int)\n",
    "Y = np.ones(10, dtype=np.int)\n",
    "A = 2*X + 2*Y\n",
    "print(X)\n",
    "print(Y)\n",
    "print(A)"
   ]
  },
  {
   "cell_type": "markdown",
   "metadata": {},
   "source": [
    "If we do not need X or Y, we can do the above like this:"
   ]
  },
  {
   "cell_type": "code",
   "execution_count": 40,
   "metadata": {},
   "outputs": [
    {
     "name": "stdout",
     "output_type": "stream",
     "text": [
      "[1 1 1 1 1 1 1 1 1 1]\n",
      "[1 1 1 1 1 1 1 1 1 1]\n",
      "[2 2 2 2 2 2 2 2 2 2]\n",
      "[2 2 2 2 2 2 2 2 2 2]\n",
      "[4 4 4 4 4 4 4 4 4 4]\n",
      "[2 2 2 2 2 2 2 2 2 2]\n"
     ]
    }
   ],
   "source": [
    "X = np.ones(10, dtype=np.int)\n",
    "Y = np.ones(10, dtype=np.int)\n",
    "print(X)\n",
    "print(Y)\n",
    "\n",
    "np.multiply(X, 2, out=X)\n",
    "np.multiply(Y, 2, out=Y)\n",
    "print(X)\n",
    "print(Y)\n",
    "\n",
    "np.add(X, Y, out=X)\n",
    "print(X)\n",
    "print(Y)"
   ]
  },
  {
   "cell_type": "markdown",
   "metadata": {},
   "source": [
    "Making copies, however, impacts performance:"
   ]
  },
  {
   "cell_type": "code",
   "execution_count": 41,
   "metadata": {},
   "outputs": [
    {
     "name": "stdout",
     "output_type": "stream",
     "text": [
      "100 ns ± 2.7 ns per loop (mean ± std. dev. of 7 runs, 10000000 loops each)\n",
      "98.4 ns ± 2 ns per loop (mean ± std. dev. of 7 runs, 10000000 loops each)\n",
      "108 ns ± 4.65 ns per loop (mean ± std. dev. of 7 runs, 10000000 loops each)\n",
      "99.8 ns ± 9.66 ns per loop (mean ± std. dev. of 7 runs, 10000000 loops each)\n"
     ]
    }
   ],
   "source": [
    "X = np.ones(10, dtype=np.int)\n",
    "Y = np.ones(10, dtype=np.int)\n",
    "\n",
    "%timeit(\"X = X + 2.0 * Y\", globals())\n",
    "%timeit(\"X = X + 2 * Y\", globals())\n",
    "%timeit(\"X += X + 2 * Y\", globals())\n",
    "%timeit(\"np.add(X, Y, out=X); np.add(X, Y, out=X)\", globals())"
   ]
  },
  {
   "cell_type": "markdown",
   "metadata": {},
   "source": [
    "Exercise: Given two vectors Z1 and Z2. We would like to know if Z2 is a view of Z1 and if yes, what is this view ?"
   ]
  },
  {
   "cell_type": "markdown",
   "metadata": {},
   "source": [
    " "
   ]
  },
  {
   "cell_type": "code",
   "execution_count": 69,
   "metadata": {},
   "outputs": [
    {
     "name": "stdout",
     "output_type": "stream",
     "text": [
      "[0 1 2 3 4 5 6 7 8 9]\n",
      "[1 3 5 7]\n"
     ]
    }
   ],
   "source": [
    "Z1 = np.arange(10)\n",
    "Z2 = Z1[1:-1:2]\n",
    "print(Z1)\n",
    "print(Z2)"
   ]
  },
  {
   "cell_type": "code",
   "execution_count": 70,
   "metadata": {},
   "outputs": [
    {
     "name": "stdout",
     "output_type": "stream",
     "text": [
      "True\n"
     ]
    }
   ],
   "source": [
    "print(Z2.base is Z1)"
   ]
  },
  {
   "cell_type": "markdown",
   "metadata": {},
   "source": [
    "Z2 can be expressed in the Z1[start: stop: step] form"
   ]
  },
  {
   "cell_type": "markdown",
   "metadata": {},
   "source": [
    "Finding the step with strides property which gives how many bytes does it take to go from one element to the next in each dimension.\n",
    "This is a one-dimensional problem, so we are interested only in the first stride:"
   ]
  },
  {
   "cell_type": "code",
   "execution_count": 71,
   "metadata": {},
   "outputs": [
    {
     "name": "stdout",
     "output_type": "stream",
     "text": [
      "(4,)\n",
      "(8,)\n"
     ]
    }
   ],
   "source": [
    "print(Z1.strides)\n",
    "print(Z2.strides)"
   ]
  },
  {
   "cell_type": "code",
   "execution_count": 72,
   "metadata": {},
   "outputs": [
    {
     "name": "stdout",
     "output_type": "stream",
     "text": [
      "4\n",
      "8\n"
     ]
    }
   ],
   "source": [
    "print(Z1.strides[0])\n",
    "print(Z2.strides[0])"
   ]
  },
  {
   "cell_type": "code",
   "execution_count": 73,
   "metadata": {},
   "outputs": [
    {
     "name": "stdout",
     "output_type": "stream",
     "text": [
      "2\n"
     ]
    }
   ],
   "source": [
    "step = Z2.strides[0] // Z1.strides[0]\n",
    "print(step)"
   ]
  },
  {
   "cell_type": "markdown",
   "metadata": {},
   "source": [
    "To find the start and stop indices we can use the `byte_bounds` method. This returns a pointer to the end-points of an array:"
   ]
  },
  {
   "attachments": {
    "e4978acf-eb6c-4b56-b81e-e13b8294ae87.png": {
     "image/png": "[encoded data removed]"
    }
   },
   "cell_type": "markdown",
   "metadata": {},
   "source": [
    "![e4978acf-eb6c-4b56-b81e-e13b8294ae87.png](attachment:e4978acf-eb6c-4b56-b81e-e13b8294ae87.png)"
   ]
  },
  {
   "cell_type": "code",
   "execution_count": 74,
   "metadata": {},
   "outputs": [
    {
     "name": "stdout",
     "output_type": "stream",
     "text": [
      "(2566096062880, 2566096062920)\n",
      "(2566096062884, 2566096062912)\n"
     ]
    }
   ],
   "source": [
    "print(np.byte_bounds(Z1))\n",
    "print(np.byte_bounds(Z2))"
   ]
  },
  {
   "cell_type": "code",
   "execution_count": 75,
   "metadata": {},
   "outputs": [
    {
     "name": "stdout",
     "output_type": "stream",
     "text": [
      "2566096062880\n",
      "2566096062920\n",
      "2566096062884\n",
      "2566096062912\n"
     ]
    }
   ],
   "source": [
    "print(np.byte_bounds(Z1)[0])\n",
    "print(np.byte_bounds(Z1)[-1])\n",
    "\n",
    "\n",
    "print(np.byte_bounds(Z2)[0])\n",
    "print(np.byte_bounds(Z2)[-1])"
   ]
  },
  {
   "cell_type": "code",
   "execution_count": 76,
   "metadata": {},
   "outputs": [
    {
     "name": "stdout",
     "output_type": "stream",
     "text": [
      "4\n",
      "-8\n"
     ]
    }
   ],
   "source": [
    "offset_start = np.byte_bounds(Z2)[0] - np.byte_bounds(Z1)[0]\n",
    "print(offset_start)\n",
    "\n",
    "offset_stop = np.byte_bounds(Z2)[-1] - np.byte_bounds(Z1)[-1]\n",
    "print(offset_stop)"
   ]
  },
  {
   "cell_type": "code",
   "execution_count": 77,
   "metadata": {},
   "outputs": [
    {
     "name": "stdout",
     "output_type": "stream",
     "text": [
      "4\n",
      "-8\n"
     ]
    }
   ],
   "source": [
    "offset_start = np.byte_bounds(Z2)[0] - np.byte_bounds(Z1)[0]\n",
    "print(offset_start) # bytes\n",
    "offset_stop = np.byte_bounds(Z2)[-1] - np.byte_bounds(Z1)[-1]\n",
    "print(offset_stop) # bytes"
   ]
  },
  {
   "cell_type": "markdown",
   "metadata": {},
   "source": [
    "Convert the offsets into indices with `itemsize`"
   ]
  },
  {
   "cell_type": "code",
   "execution_count": 78,
   "metadata": {},
   "outputs": [
    {
     "name": "stdout",
     "output_type": "stream",
     "text": [
      "1 8 2\n"
     ]
    }
   ],
   "source": [
    "start = offset_start // Z1.itemsize\n",
    "stop = Z1.size + offset_stop // Z1.itemsize\n",
    "print(start, stop, step)"
   ]
  },
  {
   "cell_type": "markdown",
   "metadata": {},
   "source": [
    "# Code vectorization "
   ]
  },
  {
   "cell_type": "markdown",
   "metadata": {},
   "source": [
    "Code vectorization is relatively straightforward (compared to problem vectorization)"
   ]
  },
  {
   "cell_type": "code",
   "execution_count": 79,
   "metadata": {},
   "outputs": [],
   "source": [
    "def add_python(Z1, Z2):\n",
    "    return [z1+z2 for (z1, z2) in zip(Z1, Z2)]"
   ]
  },
  {
   "cell_type": "code",
   "execution_count": 80,
   "metadata": {},
   "outputs": [],
   "source": [
    "def add_numpy(Z1, Z2):\n",
    "    return np.add(Z1, Z2)"
   ]
  },
  {
   "cell_type": "code",
   "execution_count": 81,
   "metadata": {},
   "outputs": [
    {
     "name": "stdout",
     "output_type": "stream",
     "text": [
      "97.8 ns ± 1.47 ns per loop (mean ± std. dev. of 7 runs, 10000000 loops each)\n",
      "95.9 ns ± 0.408 ns per loop (mean ± std. dev. of 7 runs, 10000000 loops each)\n"
     ]
    }
   ],
   "source": [
    "Z1 = random.sample(range(1000), 100)\n",
    "Z2 = random.sample(range(1000), 100)\n",
    "%timeit(\"add_python(Z1, Z2)\", globals())\n",
    "%timeit(\"add_numpy(Z1, Z2))\", globals())"
   ]
  },
  {
   "cell_type": "markdown",
   "metadata": {},
   "source": [
    "The numpy method is faster and adapts to the shape of the arrays.\n",
    "We do not use `Z1 + Z2` because that means different things for different datatypes."
   ]
  },
  {
   "cell_type": "code",
   "execution_count": 85,
   "metadata": {},
   "outputs": [
    {
     "data": {
      "text/plain": [
       "[[1, 2], [3, 4], [5, 6], [7, 8]]"
      ]
     },
     "execution_count": 85,
     "metadata": {},
     "output_type": "execute_result"
    }
   ],
   "source": [
    "Z1 = [[1, 2], [3, 4]]\n",
    "Z2 = [[5, 6], [7, 8]]\n",
    "Z1 + Z2"
   ]
  },
  {
   "cell_type": "code",
   "execution_count": 86,
   "metadata": {},
   "outputs": [
    {
     "data": {
      "text/plain": [
       "[[1, 2, 5, 6], [3, 4, 7, 8]]"
      ]
     },
     "execution_count": 86,
     "metadata": {},
     "output_type": "execute_result"
    }
   ],
   "source": [
    "add_python(Z1, Z2)"
   ]
  },
  {
   "cell_type": "code",
   "execution_count": 87,
   "metadata": {},
   "outputs": [
    {
     "data": {
      "text/plain": [
       "array([[ 6,  8],\n",
       "       [10, 12]])"
      ]
     },
     "execution_count": 87,
     "metadata": {},
     "output_type": "execute_result"
    }
   ],
   "source": [
    "add_numpy(Z1, Z2)"
   ]
  },
  {
   "cell_type": "code",
   "execution_count": null,
   "metadata": {},
   "outputs": [],
   "source": []
  }
 ],
 "metadata": {
  "kernelspec": {
   "display_name": "Python 3",
   "language": "python",
   "name": "python3"
  },
  "language_info": {
   "codemirror_mode": {
    "name": "ipython",
    "version": 3
   },
   "file_extension": ".py",
   "mimetype": "text/x-python",
   "name": "python",
   "nbconvert_exporter": "python",
   "pygments_lexer": "ipython3",
   "version": "3.6.4"
  }
 },
 "nbformat": 4,
 "nbformat_minor": 2
}
